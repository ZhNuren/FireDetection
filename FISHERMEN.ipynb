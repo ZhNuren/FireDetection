{
  "nbformat": 4,
  "nbformat_minor": 0,
  "metadata": {
    "colab": {
      "provenance": []
    },
    "kernelspec": {
      "name": "python3",
      "display_name": "Python 3"
    },
    "language_info": {
      "name": "python"
    },
    "accelerator": "GPU",
    "gpuClass": "standard"
  },
  "cells": [
    {
      "cell_type": "code",
      "execution_count": null,
      "metadata": {
        "colab": {
          "base_uri": "https://localhost:8080/"
        },
        "id": "YHGUlEsxSX1W",
        "outputId": "a2f6ebaa-f53b-4472-dc92-7f6befc503f6"
      },
      "outputs": [
        {
          "output_type": "stream",
          "name": "stdout",
          "text": [
            "Looking in indexes: https://pypi.org/simple, https://us-python.pkg.dev/colab-wheels/public/simple/\n",
            "Requirement already satisfied: torch in /usr/local/lib/python3.7/dist-packages (1.12.1+cu113)\n",
            "Requirement already satisfied: typing-extensions in /usr/local/lib/python3.7/dist-packages (from torch) (4.1.1)\n",
            "Looking in indexes: https://pypi.org/simple, https://us-python.pkg.dev/colab-wheels/public/simple/\n",
            "Requirement already satisfied: torchvision in /usr/local/lib/python3.7/dist-packages (0.13.1+cu113)\n",
            "Requirement already satisfied: torch==1.12.1 in /usr/local/lib/python3.7/dist-packages (from torchvision) (1.12.1+cu113)\n",
            "Requirement already satisfied: numpy in /usr/local/lib/python3.7/dist-packages (from torchvision) (1.21.6)\n",
            "Requirement already satisfied: pillow!=8.3.*,>=5.3.0 in /usr/local/lib/python3.7/dist-packages (from torchvision) (7.1.2)\n",
            "Requirement already satisfied: typing-extensions in /usr/local/lib/python3.7/dist-packages (from torchvision) (4.1.1)\n",
            "Requirement already satisfied: requests in /usr/local/lib/python3.7/dist-packages (from torchvision) (2.23.0)\n",
            "Requirement already satisfied: urllib3!=1.25.0,!=1.25.1,<1.26,>=1.21.1 in /usr/local/lib/python3.7/dist-packages (from requests->torchvision) (1.24.3)\n",
            "Requirement already satisfied: chardet<4,>=3.0.2 in /usr/local/lib/python3.7/dist-packages (from requests->torchvision) (3.0.4)\n",
            "Requirement already satisfied: idna<3,>=2.5 in /usr/local/lib/python3.7/dist-packages (from requests->torchvision) (2.10)\n",
            "Requirement already satisfied: certifi>=2017.4.17 in /usr/local/lib/python3.7/dist-packages (from requests->torchvision) (2022.9.24)\n",
            "Looking in indexes: https://pypi.org/simple, https://us-python.pkg.dev/colab-wheels/public/simple/\n",
            "Collecting transformers\n",
            "  Downloading transformers-4.24.0-py3-none-any.whl (5.5 MB)\n",
            "\u001b[K     |████████████████████████████████| 5.5 MB 7.6 MB/s \n",
            "\u001b[?25hRequirement already satisfied: filelock in /usr/local/lib/python3.7/dist-packages (from transformers) (3.8.0)\n",
            "Requirement already satisfied: requests in /usr/local/lib/python3.7/dist-packages (from transformers) (2.23.0)\n",
            "Requirement already satisfied: regex!=2019.12.17 in /usr/local/lib/python3.7/dist-packages (from transformers) (2022.6.2)\n",
            "Collecting huggingface-hub<1.0,>=0.10.0\n",
            "  Downloading huggingface_hub-0.11.0-py3-none-any.whl (182 kB)\n",
            "\u001b[K     |████████████████████████████████| 182 kB 73.7 MB/s \n",
            "\u001b[?25hCollecting tokenizers!=0.11.3,<0.14,>=0.11.1\n",
            "  Downloading tokenizers-0.13.2-cp37-cp37m-manylinux_2_17_x86_64.manylinux2014_x86_64.whl (7.6 MB)\n",
            "\u001b[K     |████████████████████████████████| 7.6 MB 47.0 MB/s \n",
            "\u001b[?25hRequirement already satisfied: importlib-metadata in /usr/local/lib/python3.7/dist-packages (from transformers) (4.13.0)\n",
            "Requirement already satisfied: numpy>=1.17 in /usr/local/lib/python3.7/dist-packages (from transformers) (1.21.6)\n",
            "Requirement already satisfied: pyyaml>=5.1 in /usr/local/lib/python3.7/dist-packages (from transformers) (6.0)\n",
            "Requirement already satisfied: packaging>=20.0 in /usr/local/lib/python3.7/dist-packages (from transformers) (21.3)\n",
            "Requirement already satisfied: tqdm>=4.27 in /usr/local/lib/python3.7/dist-packages (from transformers) (4.64.1)\n",
            "Requirement already satisfied: typing-extensions>=3.7.4.3 in /usr/local/lib/python3.7/dist-packages (from huggingface-hub<1.0,>=0.10.0->transformers) (4.1.1)\n",
            "Requirement already satisfied: pyparsing!=3.0.5,>=2.0.2 in /usr/local/lib/python3.7/dist-packages (from packaging>=20.0->transformers) (3.0.9)\n",
            "Requirement already satisfied: zipp>=0.5 in /usr/local/lib/python3.7/dist-packages (from importlib-metadata->transformers) (3.10.0)\n",
            "Requirement already satisfied: idna<3,>=2.5 in /usr/local/lib/python3.7/dist-packages (from requests->transformers) (2.10)\n",
            "Requirement already satisfied: urllib3!=1.25.0,!=1.25.1,<1.26,>=1.21.1 in /usr/local/lib/python3.7/dist-packages (from requests->transformers) (1.24.3)\n",
            "Requirement already satisfied: certifi>=2017.4.17 in /usr/local/lib/python3.7/dist-packages (from requests->transformers) (2022.9.24)\n",
            "Requirement already satisfied: chardet<4,>=3.0.2 in /usr/local/lib/python3.7/dist-packages (from requests->transformers) (3.0.4)\n",
            "Installing collected packages: tokenizers, huggingface-hub, transformers\n",
            "Successfully installed huggingface-hub-0.11.0 tokenizers-0.13.2 transformers-4.24.0\n",
            "Looking in indexes: https://pypi.org/simple, https://us-python.pkg.dev/colab-wheels/public/simple/\n",
            "Collecting evaluate\n",
            "  Downloading evaluate-0.3.0-py3-none-any.whl (72 kB)\n",
            "\u001b[K     |████████████████████████████████| 72 kB 1.4 MB/s \n",
            "\u001b[?25hRequirement already satisfied: pandas in /usr/local/lib/python3.7/dist-packages (from evaluate) (1.3.5)\n",
            "Collecting multiprocess\n",
            "  Downloading multiprocess-0.70.14-py37-none-any.whl (115 kB)\n",
            "\u001b[K     |████████████████████████████████| 115 kB 14.8 MB/s \n",
            "\u001b[?25hRequirement already satisfied: dill in /usr/local/lib/python3.7/dist-packages (from evaluate) (0.3.6)\n",
            "Requirement already satisfied: requests>=2.19.0 in /usr/local/lib/python3.7/dist-packages (from evaluate) (2.23.0)\n",
            "Requirement already satisfied: fsspec[http]>=2021.05.0 in /usr/local/lib/python3.7/dist-packages (from evaluate) (2022.10.0)\n",
            "Requirement already satisfied: huggingface-hub>=0.7.0 in /usr/local/lib/python3.7/dist-packages (from evaluate) (0.11.0)\n",
            "Collecting responses<0.19\n",
            "  Downloading responses-0.18.0-py3-none-any.whl (38 kB)\n",
            "Requirement already satisfied: importlib-metadata in /usr/local/lib/python3.7/dist-packages (from evaluate) (4.13.0)\n",
            "Requirement already satisfied: numpy>=1.17 in /usr/local/lib/python3.7/dist-packages (from evaluate) (1.21.6)\n",
            "Requirement already satisfied: packaging in /usr/local/lib/python3.7/dist-packages (from evaluate) (21.3)\n",
            "Collecting datasets>=2.0.0\n",
            "  Downloading datasets-2.7.0-py3-none-any.whl (451 kB)\n",
            "\u001b[K     |████████████████████████████████| 451 kB 59.4 MB/s \n",
            "\u001b[?25hCollecting xxhash\n",
            "  Downloading xxhash-3.1.0-cp37-cp37m-manylinux_2_17_x86_64.manylinux2014_x86_64.whl (212 kB)\n",
            "\u001b[K     |████████████████████████████████| 212 kB 64.8 MB/s \n",
            "\u001b[?25hRequirement already satisfied: tqdm>=4.62.1 in /usr/local/lib/python3.7/dist-packages (from evaluate) (4.64.1)\n",
            "Requirement already satisfied: pyyaml>=5.1 in /usr/local/lib/python3.7/dist-packages (from datasets>=2.0.0->evaluate) (6.0)\n",
            "Requirement already satisfied: pyarrow>=6.0.0 in /usr/local/lib/python3.7/dist-packages (from datasets>=2.0.0->evaluate) (6.0.1)\n",
            "Requirement already satisfied: aiohttp in /usr/local/lib/python3.7/dist-packages (from datasets>=2.0.0->evaluate) (3.8.3)\n",
            "Requirement already satisfied: aiosignal>=1.1.2 in /usr/local/lib/python3.7/dist-packages (from aiohttp->datasets>=2.0.0->evaluate) (1.3.1)\n",
            "Requirement already satisfied: yarl<2.0,>=1.0 in /usr/local/lib/python3.7/dist-packages (from aiohttp->datasets>=2.0.0->evaluate) (1.8.1)\n",
            "Requirement already satisfied: attrs>=17.3.0 in /usr/local/lib/python3.7/dist-packages (from aiohttp->datasets>=2.0.0->evaluate) (22.1.0)\n",
            "Requirement already satisfied: async-timeout<5.0,>=4.0.0a3 in /usr/local/lib/python3.7/dist-packages (from aiohttp->datasets>=2.0.0->evaluate) (4.0.2)\n",
            "Requirement already satisfied: frozenlist>=1.1.1 in /usr/local/lib/python3.7/dist-packages (from aiohttp->datasets>=2.0.0->evaluate) (1.3.3)\n",
            "Requirement already satisfied: asynctest==0.13.0 in /usr/local/lib/python3.7/dist-packages (from aiohttp->datasets>=2.0.0->evaluate) (0.13.0)\n",
            "Requirement already satisfied: charset-normalizer<3.0,>=2.0 in /usr/local/lib/python3.7/dist-packages (from aiohttp->datasets>=2.0.0->evaluate) (2.1.1)\n",
            "Requirement already satisfied: multidict<7.0,>=4.5 in /usr/local/lib/python3.7/dist-packages (from aiohttp->datasets>=2.0.0->evaluate) (6.0.2)\n",
            "Requirement already satisfied: typing-extensions>=3.7.4 in /usr/local/lib/python3.7/dist-packages (from aiohttp->datasets>=2.0.0->evaluate) (4.1.1)\n",
            "Requirement already satisfied: filelock in /usr/local/lib/python3.7/dist-packages (from huggingface-hub>=0.7.0->evaluate) (3.8.0)\n",
            "Requirement already satisfied: pyparsing!=3.0.5,>=2.0.2 in /usr/local/lib/python3.7/dist-packages (from packaging->evaluate) (3.0.9)\n",
            "Requirement already satisfied: certifi>=2017.4.17 in /usr/local/lib/python3.7/dist-packages (from requests>=2.19.0->evaluate) (2022.9.24)\n",
            "Requirement already satisfied: idna<3,>=2.5 in /usr/local/lib/python3.7/dist-packages (from requests>=2.19.0->evaluate) (2.10)\n",
            "Requirement already satisfied: chardet<4,>=3.0.2 in /usr/local/lib/python3.7/dist-packages (from requests>=2.19.0->evaluate) (3.0.4)\n",
            "Requirement already satisfied: urllib3!=1.25.0,!=1.25.1,<1.26,>=1.21.1 in /usr/local/lib/python3.7/dist-packages (from requests>=2.19.0->evaluate) (1.24.3)\n",
            "Collecting urllib3!=1.25.0,!=1.25.1,<1.26,>=1.21.1\n",
            "  Downloading urllib3-1.25.11-py2.py3-none-any.whl (127 kB)\n",
            "\u001b[K     |████████████████████████████████| 127 kB 68.0 MB/s \n",
            "\u001b[?25hRequirement already satisfied: zipp>=0.5 in /usr/local/lib/python3.7/dist-packages (from importlib-metadata->evaluate) (3.10.0)\n",
            "Requirement already satisfied: python-dateutil>=2.7.3 in /usr/local/lib/python3.7/dist-packages (from pandas->evaluate) (2.8.2)\n",
            "Requirement already satisfied: pytz>=2017.3 in /usr/local/lib/python3.7/dist-packages (from pandas->evaluate) (2022.6)\n",
            "Requirement already satisfied: six>=1.5 in /usr/local/lib/python3.7/dist-packages (from python-dateutil>=2.7.3->pandas->evaluate) (1.15.0)\n",
            "Installing collected packages: urllib3, xxhash, responses, multiprocess, datasets, evaluate\n",
            "  Attempting uninstall: urllib3\n",
            "    Found existing installation: urllib3 1.24.3\n",
            "    Uninstalling urllib3-1.24.3:\n",
            "      Successfully uninstalled urllib3-1.24.3\n",
            "Successfully installed datasets-2.7.0 evaluate-0.3.0 multiprocess-0.70.14 responses-0.18.0 urllib3-1.25.11 xxhash-3.1.0\n",
            "Looking in indexes: https://pypi.org/simple, https://us-python.pkg.dev/colab-wheels/public/simple/\n",
            "Requirement already satisfied: albumentations in /usr/local/lib/python3.7/dist-packages (1.2.1)\n",
            "Requirement already satisfied: scikit-image>=0.16.1 in /usr/local/lib/python3.7/dist-packages (from albumentations) (0.18.3)\n",
            "Requirement already satisfied: opencv-python-headless>=4.1.1 in /usr/local/lib/python3.7/dist-packages (from albumentations) (4.6.0.66)\n",
            "Requirement already satisfied: numpy>=1.11.1 in /usr/local/lib/python3.7/dist-packages (from albumentations) (1.21.6)\n",
            "Requirement already satisfied: PyYAML in /usr/local/lib/python3.7/dist-packages (from albumentations) (6.0)\n",
            "Requirement already satisfied: qudida>=0.0.4 in /usr/local/lib/python3.7/dist-packages (from albumentations) (0.0.4)\n",
            "Requirement already satisfied: scipy in /usr/local/lib/python3.7/dist-packages (from albumentations) (1.7.3)\n",
            "Requirement already satisfied: scikit-learn>=0.19.1 in /usr/local/lib/python3.7/dist-packages (from qudida>=0.0.4->albumentations) (1.0.2)\n",
            "Requirement already satisfied: typing-extensions in /usr/local/lib/python3.7/dist-packages (from qudida>=0.0.4->albumentations) (4.1.1)\n",
            "Requirement already satisfied: pillow!=7.1.0,!=7.1.1,>=4.3.0 in /usr/local/lib/python3.7/dist-packages (from scikit-image>=0.16.1->albumentations) (7.1.2)\n",
            "Requirement already satisfied: matplotlib!=3.0.0,>=2.0.0 in /usr/local/lib/python3.7/dist-packages (from scikit-image>=0.16.1->albumentations) (3.2.2)\n",
            "Requirement already satisfied: networkx>=2.0 in /usr/local/lib/python3.7/dist-packages (from scikit-image>=0.16.1->albumentations) (2.6.3)\n",
            "Requirement already satisfied: tifffile>=2019.7.26 in /usr/local/lib/python3.7/dist-packages (from scikit-image>=0.16.1->albumentations) (2021.11.2)\n",
            "Requirement already satisfied: imageio>=2.3.0 in /usr/local/lib/python3.7/dist-packages (from scikit-image>=0.16.1->albumentations) (2.9.0)\n",
            "Requirement already satisfied: PyWavelets>=1.1.1 in /usr/local/lib/python3.7/dist-packages (from scikit-image>=0.16.1->albumentations) (1.3.0)\n",
            "Requirement already satisfied: cycler>=0.10 in /usr/local/lib/python3.7/dist-packages (from matplotlib!=3.0.0,>=2.0.0->scikit-image>=0.16.1->albumentations) (0.11.0)\n",
            "Requirement already satisfied: kiwisolver>=1.0.1 in /usr/local/lib/python3.7/dist-packages (from matplotlib!=3.0.0,>=2.0.0->scikit-image>=0.16.1->albumentations) (1.4.4)\n",
            "Requirement already satisfied: python-dateutil>=2.1 in /usr/local/lib/python3.7/dist-packages (from matplotlib!=3.0.0,>=2.0.0->scikit-image>=0.16.1->albumentations) (2.8.2)\n",
            "Requirement already satisfied: pyparsing!=2.0.4,!=2.1.2,!=2.1.6,>=2.0.1 in /usr/local/lib/python3.7/dist-packages (from matplotlib!=3.0.0,>=2.0.0->scikit-image>=0.16.1->albumentations) (3.0.9)\n",
            "Requirement already satisfied: six>=1.5 in /usr/local/lib/python3.7/dist-packages (from python-dateutil>=2.1->matplotlib!=3.0.0,>=2.0.0->scikit-image>=0.16.1->albumentations) (1.15.0)\n",
            "Requirement already satisfied: threadpoolctl>=2.0.0 in /usr/local/lib/python3.7/dist-packages (from scikit-learn>=0.19.1->qudida>=0.0.4->albumentations) (3.1.0)\n",
            "Requirement already satisfied: joblib>=0.11 in /usr/local/lib/python3.7/dist-packages (from scikit-learn>=0.19.1->qudida>=0.0.4->albumentations) (1.2.0)\n"
          ]
        }
      ],
      "source": [
        "!pip install torch \n",
        "!pip install torchvision\n",
        "!pip install transformers\n",
        "!pip install evaluate\n",
        "!pip install albumentations\n",
        "None"
      ]
    },
    {
      "cell_type": "code",
      "source": [
        "from google.colab import drive\n",
        "drive.mount('/content/drive')"
      ],
      "metadata": {
        "id": "ghuLL-CHSenL",
        "outputId": "f445dc74-6204-479c-9491-53d7e662a108",
        "colab": {
          "base_uri": "https://localhost:8080/"
        }
      },
      "execution_count": null,
      "outputs": [
        {
          "output_type": "stream",
          "name": "stdout",
          "text": [
            "Mounted at /content/drive\n"
          ]
        }
      ]
    },
    {
      "cell_type": "code",
      "source": [
        "import torch \n",
        "import cv2\n",
        "from transformers import AutoFeatureExtractor, ResNetForImageClassification, Trainer, TrainingArguments\n",
        "import evaluate\n",
        "import matplotlib.pyplot as plt\n",
        "from torch import nn\n",
        "from torch import optim\n",
        "import torch.nn.functional as F\n",
        "from pandas.core.common import flatten\n",
        "\n",
        "from torchvision import datasets, transforms, models\n",
        "from torch.utils.data import Dataset, DataLoader\n",
        "from torchvision.datasets import ImageFolder\n",
        "\n",
        "import albumentations as A\n",
        "from albumentations.pytorch import ToTensorV2\n",
        "import glob\n",
        "from tqdm import tqdm\n",
        "\n",
        "import os\n",
        "import numpy as np\n",
        "\n",
        "import warnings\n",
        "import random\n",
        "from torchsummary import summary\n",
        "warnings.filterwarnings('ignore')\n",
        "\n",
        "device = 'cuda' if torch.cuda.is_available() else 'cpu'"
      ],
      "metadata": {
        "id": "gL2PxzuqSZrN"
      },
      "execution_count": 166,
      "outputs": []
    },
    {
      "cell_type": "code",
      "source": [
        "from google.colab import drive\n",
        "drive.mount('/content/drive')\n"
      ],
      "metadata": {
        "id": "rOzS0o9kSbOT"
      },
      "execution_count": null,
      "outputs": []
    },
    {
      "cell_type": "code",
      "source": [
        "train_path = '/content/drive/MyDrive/GeorgeDataSet/train'\n",
        "test_path = '/content/drive/MyDrive/GeorgeDataSet/test'"
      ],
      "metadata": {
        "id": "n7JRAtrSpRJ6"
      },
      "execution_count": 178,
      "outputs": []
    },
    {
      "cell_type": "code",
      "source": [],
      "metadata": {
        "id": "nRz8gjl2tkTx"
      },
      "execution_count": null,
      "outputs": []
    },
    {
      "cell_type": "code",
      "source": [
        "train_path = '/content/drive/MyDrive/GeorgeDataSet/train'\n",
        "test_path = '/content/drive/MyDrive/GeorgeDataSet/test'"
      ],
      "metadata": {
        "id": "RVZN3Kq8UeiD"
      },
      "execution_count": 179,
      "outputs": []
    },
    {
      "cell_type": "code",
      "source": [
        "# for generating paths\n",
        "import os\n",
        "classes = ['nofire', 'fire']\n",
        "\n",
        "if os.path.exists('trainpaths.txt'):\n",
        "  os.remove('trainpaths.txt')\n",
        "\n",
        "root_dir = train_path\n",
        "for folder in os.listdir(root_dir):\n",
        "  for filename in os.listdir(os.path.join(root_dir, folder)):\n",
        "    path = os.path.join(root_dir, folder, filename)\n",
        "    label = classes.index(folder)\n",
        "    with open('trainpaths.txt','a') as f:\n",
        "      f.writelines(str(label) + ',' + path +'\\n')\n",
        "\n",
        "if os.path.exists('testpaths.txt'):\n",
        "  os.remove('testpaths.txt')\n",
        "\n",
        "root_dir = test_path\n",
        "for folder in os.listdir(root_dir):\n",
        "  for filename in os.listdir(os.path.join(root_dir, folder)):\n",
        "    path = os.path.join(root_dir, folder, filename)\n",
        "    label = classes.index(folder)\n",
        "    with open('testpaths.txt','a') as f:\n",
        "      f.writelines(str(label) + ',' + path +'\\n')\n"
      ],
      "metadata": {
        "id": "9MI3uF5SWtbr"
      },
      "execution_count": 180,
      "outputs": []
    },
    {
      "cell_type": "code",
      "source": [
        "train_dataset = ImageFolder('/content/drive/MyDrive/GeorgeDataSet/train',transform=None)\n",
        "test_dataset = ImageFolder('/content/drive/MyDrive/GeorgeDataSet/test', transform=None)"
      ],
      "metadata": {
        "id": "eIG1aljwSctr"
      },
      "execution_count": null,
      "outputs": []
    },
    {
      "cell_type": "code",
      "source": [
        "class CustomDataset(Dataset):\n",
        "  def __init__(self, path_file, transform=None):\n",
        "    self.transform = transform\n",
        "    with open(path_file, 'r') as f:\n",
        "      self.paths = f.readlines()\n",
        "\n",
        "  def __len__(self):\n",
        "    return len(self.paths)\n",
        "\n",
        "  def __getitem__(self, idx):\n",
        "    label, img_path = self.paths[idx].strip().split(',')\n",
        "    img = cv2.imread(img_path)\n",
        "    img = cv2.cvtColor(img, cv2.COLOR_BGR2RGB)\n",
        "    \n",
        "    if self.transform:\n",
        "      img = self.transform(img)\n",
        "    return img, int(label)"
      ],
      "metadata": {
        "id": "t44YUF70TJmV"
      },
      "execution_count": 181,
      "outputs": []
    },
    {
      "cell_type": "code",
      "source": [
        "trainset_configs = dict(\n",
        "    path_file = 'trainpaths.txt',\n",
        "    transform = transforms.Compose([\n",
        "        transforms.ToTensor(),\n",
        "        transforms.RandomHorizontalFlip(),\n",
        "        transforms.RandomRotation(30),\n",
        "        transforms.RandomVerticalFlip(),\n",
        "        transforms.Resize((224,224)),\n",
        "        transforms.Normalize((0.485, 0.456, 0.406), (0.229, 0.224, 0.225)),\n",
        "\n",
        "    ])\n",
        ")\n",
        "\n",
        "testset_configs = dict(\n",
        "    path_file = 'testpaths.txt',\n",
        "    transform = transforms.Compose([\n",
        "        transforms.ToTensor(),\n",
        "        transforms.Resize((224,224)),\n",
        "        transforms.Normalize((0.485, 0.456, 0.406), (0.229, 0.224, 0.225)),\n",
        "        \n",
        "    ])\n",
        ")"
      ],
      "metadata": {
        "id": "QkzewZ9-Tjo5"
      },
      "execution_count": 185,
      "outputs": []
    },
    {
      "cell_type": "code",
      "source": [
        "train_dataset = CustomDataset(\n",
        "    path_file = trainset_configs['path_file'],\n",
        "    transform = trainset_configs['transform']\n",
        "      )\n",
        "\n",
        "test_dataset = CustomDataset(\n",
        "    path_file = testset_configs['path_file'],\n",
        "    transform = testset_configs['transform']\n",
        ")"
      ],
      "metadata": {
        "id": "gsRXFsFkVGEo"
      },
      "execution_count": 186,
      "outputs": []
    },
    {
      "cell_type": "code",
      "source": [
        "train_dataloader = DataLoader(\n",
        "    dataset=train_dataset,\n",
        "    batch_size=64,\n",
        "    shuffle=True,\n",
        "    num_workers=2,\n",
        "    pin_memory = torch.cuda.is_available()\n",
        ")\n",
        "\n",
        "test_dataloader = DataLoader(\n",
        "    dataset=test_dataset,\n",
        "    batch_size=64,\n",
        "    shuffle=True,\n",
        "    num_workers=2,\n",
        "    pin_memory = torch.cuda.is_available()\n",
        ")"
      ],
      "metadata": {
        "id": "KkngsiJ2VVPs"
      },
      "execution_count": 187,
      "outputs": []
    },
    {
      "cell_type": "code",
      "source": [
        "iterator = iter(train_dataloader)\n",
        "images, labels = next(iterator)"
      ],
      "metadata": {
        "id": "m48xHG9gYXFh"
      },
      "execution_count": null,
      "outputs": []
    },
    {
      "cell_type": "code",
      "source": [
        "from torchvision import models\n",
        "import torch.nn as nn\n",
        "\n",
        "model = models.resnet18(pretrained=True)\n",
        "model.fc = nn.Sequential(\n",
        "    nn.Linear(512,2)\n",
        "\n",
        ")\n",
        "model = model.to(device)"
      ],
      "metadata": {
        "id": "3m2bOXj6Z4NE"
      },
      "execution_count": 188,
      "outputs": []
    },
    {
      "cell_type": "code",
      "source": [
        "from torchvision import models\n",
        "import torch.nn as nn\n",
        "\n",
        "model = models.resnet50(pretrained=True)\n",
        "# for child in model.children():\n",
        "#   for param in child.parameters():\n",
        "#     param.requires_grad = False\n",
        "model.fc = nn.Sequential(\n",
        "    nn.Linear(2048,1024),\n",
        "    nn.Linear(1024,512),\n",
        "    nn.Linear(512,256),\n",
        "    \n",
        ")\n",
        "model = model.to(device)\n",
        "\n"
      ],
      "metadata": {
        "id": "7ph4fEkPOBhH"
      },
      "execution_count": 151,
      "outputs": []
    },
    {
      "cell_type": "code",
      "source": [
        "device"
      ],
      "metadata": {
        "colab": {
          "base_uri": "https://localhost:8080/",
          "height": 35
        },
        "id": "-nZfKnDEfCcH",
        "outputId": "fbbf82af-72d1-4c6f-e20a-9c24533113ab"
      },
      "execution_count": null,
      "outputs": [
        {
          "output_type": "execute_result",
          "data": {
            "text/plain": [
              "'cuda'"
            ],
            "application/vnd.google.colaboratory.intrinsic+json": {
              "type": "string"
            }
          },
          "metadata": {},
          "execution_count": 110
        }
      ]
    },
    {
      "cell_type": "code",
      "source": [
        "import torch.optim as optim\n",
        "from torch.optim import lr_scheduler\n",
        "loss_function = nn.CrossEntropyLoss()\n",
        "\n",
        "optimiser = optim.Adam([\n",
        "    {'params': model.conv1.parameters()},\n",
        "    {'params': model.layer1.parameters()},\n",
        "    {'params': model.layer2.parameters()},\n",
        "    {'params': model.layer3.parameters()},\n",
        "    {'params': model.layer4.parameters()},\n",
        "    {'params': model.fc.parameters(), 'lr':0.01}\n",
        "    ],\n",
        "  lr=0.0001, \n",
        "  weight_decay=0.0005\n",
        "\n",
        "  # weight_decay=0.0005\n",
        ")\n",
        "scheduler = lr_scheduler.StepLR(optimiser, step_size=10, gamma=0.1)"
      ],
      "metadata": {
        "id": "VeT-WuYGYb4o"
      },
      "execution_count": 189,
      "outputs": []
    },
    {
      "cell_type": "code",
      "source": [
        "!pip install torchmetrics"
      ],
      "metadata": {
        "colab": {
          "base_uri": "https://localhost:8080/"
        },
        "id": "1IOnwZb4nJPY",
        "outputId": "baea03e0-fd5f-4779-eabb-8fd6b28b05c8"
      },
      "execution_count": null,
      "outputs": [
        {
          "output_type": "stream",
          "name": "stdout",
          "text": [
            "Looking in indexes: https://pypi.org/simple, https://us-python.pkg.dev/colab-wheels/public/simple/\n",
            "Collecting torchmetrics\n",
            "  Downloading torchmetrics-0.10.3-py3-none-any.whl (529 kB)\n",
            "\u001b[K     |████████████████████████████████| 529 kB 7.6 MB/s \n",
            "\u001b[?25hRequirement already satisfied: numpy>=1.17.2 in /usr/local/lib/python3.7/dist-packages (from torchmetrics) (1.21.6)\n",
            "Requirement already satisfied: torch>=1.3.1 in /usr/local/lib/python3.7/dist-packages (from torchmetrics) (1.12.1+cu113)\n",
            "Requirement already satisfied: packaging in /usr/local/lib/python3.7/dist-packages (from torchmetrics) (21.3)\n",
            "Requirement already satisfied: typing-extensions in /usr/local/lib/python3.7/dist-packages (from torchmetrics) (4.1.1)\n",
            "Requirement already satisfied: pyparsing!=3.0.5,>=2.0.2 in /usr/local/lib/python3.7/dist-packages (from packaging->torchmetrics) (3.0.9)\n",
            "Installing collected packages: torchmetrics\n",
            "Successfully installed torchmetrics-0.10.3\n"
          ]
        }
      ]
    },
    {
      "cell_type": "code",
      "source": [
        "#train.py file\n",
        "from sklearn.metrics import f1_score \n",
        "import time\n",
        "import torch\n",
        "import copy\n",
        "from torchmetrics import F1Score\n",
        "from torch.utils.tensorboard import SummaryWriter\n",
        "\n",
        "device = 'cuda' if torch.cuda.is_available() else 'cpu'\n",
        "\n",
        "def train_model(model, dataloaders, criterion, optimiser, scheduler, num_epochs):\n",
        "  best_acc = 0\n",
        "  since = time.time()\n",
        "  writer = SummaryWriter()\n",
        "  \n",
        "  for epoch in range(num_epochs):\n",
        "    print('Epoch{}'.format(epoch))\n",
        "    for phase in ['train', 'test']:\n",
        "      epoch_loss = 0\n",
        "      epoch_acc = 0\n",
        "      f1_score = 0\n",
        "      if phase == 'train':\n",
        "        model.train()\n",
        "      else:\n",
        "        model.eval()\n",
        "\n",
        "      num_images = 0\n",
        "      batch = 0\n",
        "      for inputs, gt_labels in dataloaders[phase]:\n",
        "        batch+=1\n",
        "        inputs = inputs.to(device)\n",
        "        gt_labels = gt_labels.to(device)\n",
        "\n",
        "        optimiser.zero_grad()\n",
        "\n",
        "        with torch.set_grad_enabled(phase=='train'):\n",
        "          outputs = model(inputs)\n",
        "        _,preds = torch.max(outputs, dim=1)\n",
        "        loss = criterion(outputs, gt_labels)\n",
        "\n",
        "        if phase == 'train':\n",
        "          loss.backward()\n",
        "          optimiser.step()\n",
        "\n",
        "        num_images += inputs.shape[0]\n",
        "        epoch_loss += loss.item()*inputs.shape[0]\n",
        "        epoch_acc += torch.sum(preds==gt_labels).item() \n",
        "\n",
        "        \n",
        "\n",
        "      if phase == 'train':\n",
        "        scheduler.step()\n",
        "      epoch_loss/= num_images\n",
        "      epoch_acc /= num_images\n",
        "   \n",
        "\n",
        "\n",
        "      print('{}. Loss: {:.4f}, Acc: {:.4f}'.format(phase, epoch_loss, epoch_acc))\n",
        "      \n",
        "      if phase =='test' and epoch_acc > best_acc:\n",
        "        best_acc = epoch_acc\n",
        "        best_weights = copy.deepcopy(model.state_dict())\n",
        "        torch.save(model.state_dict(), 'checkpoint.pt') \n",
        "\n",
        "      if phase ==  'train':\n",
        "        writer.add_scalar('TrainLoss', epoch_loss, epoch)\n",
        "        writer.add_scalar ('TrainAcc', epoch_acc, epoch)\n",
        "\n",
        "      if phase =='test':\n",
        "        writer.add_scalar ('ValLoss', epoch_acc, epoch)\n",
        "        writer.add_scalar ('ValAcc', epoch_acc, epoch)\n",
        "\n",
        "  time_elapsed = time.time() - since\n",
        "  print('Training complete in {:.0f}m, {:.0f}s'.format(\n",
        "      time_elapsed//60, time_elapsed%60\n",
        "  ))\n",
        "\n",
        "  model.load_state_dict(best_weights)\n",
        "  return model\n",
        "  "
      ],
      "metadata": {
        "id": "V6WbhzsjcJ0Z"
      },
      "execution_count": 190,
      "outputs": []
    },
    {
      "cell_type": "code",
      "source": [
        "class EarlyStopper:\n",
        "    def __init__(self, patience=1, min_delta=0):\n",
        "        self.patience = patience\n",
        "        self.min_delta = min_delta\n",
        "        self.counter = 0\n",
        "        self.min_validation_loss = np.inf\n",
        "\n",
        "    def early_stop(self, validation_loss):\n",
        "        if validation_loss < self.min_validation_loss:\n",
        "            self.min_validation_loss = validation_loss\n",
        "            self.counter = 0\n",
        "        elif validation_loss > (self.min_validation_loss + self.min_delta):\n",
        "            self.counter += 1\n",
        "            if self.counter >= self.patience:\n",
        "                return True\n",
        "        return False"
      ],
      "metadata": {
        "id": "TLg25z30sNek"
      },
      "execution_count": null,
      "outputs": []
    },
    {
      "cell_type": "code",
      "source": [
        "dataloaders = dict(\n",
        "    train = train_dataloader,\n",
        "    test = test_dataloader\n",
        ")\n",
        "\n",
        "trained_model = train_model(model,\n",
        "                            dataloaders,\n",
        "                            loss_function,\n",
        "                            optimiser,\n",
        "                            scheduler,\n",
        "                            num_epochs=10\n",
        "                            )"
      ],
      "metadata": {
        "id": "_1FJLwkeLQYH",
        "outputId": "83548a84-0d8d-4f5a-a7c1-aea3114d313d",
        "colab": {
          "base_uri": "https://localhost:8080/",
          "height": 641
        }
      },
      "execution_count": 191,
      "outputs": [
        {
          "output_type": "stream",
          "name": "stdout",
          "text": [
            "Epoch0\n",
            "train. Loss: 0.3846, Acc: 0.8922\n",
            "test. Loss: 0.0291, Acc: 0.9904\n",
            "Epoch1\n",
            "train. Loss: 0.0550, Acc: 0.9819\n",
            "test. Loss: 0.0298, Acc: 0.9828\n",
            "Epoch2\n",
            "train. Loss: 0.0440, Acc: 0.9871\n",
            "test. Loss: 0.0594, Acc: 0.9771\n",
            "Epoch3\n",
            "train. Loss: 0.0225, Acc: 0.9900\n",
            "test. Loss: 0.0529, Acc: 0.9809\n",
            "Epoch4\n",
            "train. Loss: 0.0140, Acc: 0.9962\n",
            "test. Loss: 0.0335, Acc: 0.9866\n",
            "Epoch5\n"
          ]
        },
        {
          "output_type": "error",
          "ename": "KeyboardInterrupt",
          "evalue": "ignored",
          "traceback": [
            "\u001b[0;31m---------------------------------------------------------------------------\u001b[0m",
            "\u001b[0;31mKeyboardInterrupt\u001b[0m                         Traceback (most recent call last)",
            "\u001b[0;32m<ipython-input-191-31cdfecc0d22>\u001b[0m in \u001b[0;36m<module>\u001b[0;34m\u001b[0m\n\u001b[1;32m      9\u001b[0m                             \u001b[0moptimiser\u001b[0m\u001b[0;34m,\u001b[0m\u001b[0;34m\u001b[0m\u001b[0;34m\u001b[0m\u001b[0m\n\u001b[1;32m     10\u001b[0m                             \u001b[0mscheduler\u001b[0m\u001b[0;34m,\u001b[0m\u001b[0;34m\u001b[0m\u001b[0;34m\u001b[0m\u001b[0m\n\u001b[0;32m---> 11\u001b[0;31m                             \u001b[0mnum_epochs\u001b[0m\u001b[0;34m=\u001b[0m\u001b[0;36m10\u001b[0m\u001b[0;34m\u001b[0m\u001b[0;34m\u001b[0m\u001b[0m\n\u001b[0m\u001b[1;32m     12\u001b[0m                             )\n",
            "\u001b[0;32m<ipython-input-190-8d7d7cc5e739>\u001b[0m in \u001b[0;36mtrain_model\u001b[0;34m(model, dataloaders, criterion, optimiser, scheduler, num_epochs)\u001b[0m\n\u001b[1;32m     27\u001b[0m       \u001b[0mnum_images\u001b[0m \u001b[0;34m=\u001b[0m \u001b[0;36m0\u001b[0m\u001b[0;34m\u001b[0m\u001b[0;34m\u001b[0m\u001b[0m\n\u001b[1;32m     28\u001b[0m       \u001b[0mbatch\u001b[0m \u001b[0;34m=\u001b[0m \u001b[0;36m0\u001b[0m\u001b[0;34m\u001b[0m\u001b[0;34m\u001b[0m\u001b[0m\n\u001b[0;32m---> 29\u001b[0;31m       \u001b[0;32mfor\u001b[0m \u001b[0minputs\u001b[0m\u001b[0;34m,\u001b[0m \u001b[0mgt_labels\u001b[0m \u001b[0;32min\u001b[0m \u001b[0mdataloaders\u001b[0m\u001b[0;34m[\u001b[0m\u001b[0mphase\u001b[0m\u001b[0;34m]\u001b[0m\u001b[0;34m:\u001b[0m\u001b[0;34m\u001b[0m\u001b[0;34m\u001b[0m\u001b[0m\n\u001b[0m\u001b[1;32m     30\u001b[0m         \u001b[0mbatch\u001b[0m\u001b[0;34m+=\u001b[0m\u001b[0;36m1\u001b[0m\u001b[0;34m\u001b[0m\u001b[0;34m\u001b[0m\u001b[0m\n\u001b[1;32m     31\u001b[0m         \u001b[0minputs\u001b[0m \u001b[0;34m=\u001b[0m \u001b[0minputs\u001b[0m\u001b[0;34m.\u001b[0m\u001b[0mto\u001b[0m\u001b[0;34m(\u001b[0m\u001b[0mdevice\u001b[0m\u001b[0;34m)\u001b[0m\u001b[0;34m\u001b[0m\u001b[0;34m\u001b[0m\u001b[0m\n",
            "\u001b[0;32m/usr/local/lib/python3.7/dist-packages/torch/utils/data/dataloader.py\u001b[0m in \u001b[0;36m__next__\u001b[0;34m(self)\u001b[0m\n\u001b[1;32m    679\u001b[0m                 \u001b[0;31m# TODO(https://github.com/pytorch/pytorch/issues/76750)\u001b[0m\u001b[0;34m\u001b[0m\u001b[0;34m\u001b[0m\u001b[0;34m\u001b[0m\u001b[0m\n\u001b[1;32m    680\u001b[0m                 \u001b[0mself\u001b[0m\u001b[0;34m.\u001b[0m\u001b[0m_reset\u001b[0m\u001b[0;34m(\u001b[0m\u001b[0;34m)\u001b[0m  \u001b[0;31m# type: ignore[call-arg]\u001b[0m\u001b[0;34m\u001b[0m\u001b[0;34m\u001b[0m\u001b[0m\n\u001b[0;32m--> 681\u001b[0;31m             \u001b[0mdata\u001b[0m \u001b[0;34m=\u001b[0m \u001b[0mself\u001b[0m\u001b[0;34m.\u001b[0m\u001b[0m_next_data\u001b[0m\u001b[0;34m(\u001b[0m\u001b[0;34m)\u001b[0m\u001b[0;34m\u001b[0m\u001b[0;34m\u001b[0m\u001b[0m\n\u001b[0m\u001b[1;32m    682\u001b[0m             \u001b[0mself\u001b[0m\u001b[0;34m.\u001b[0m\u001b[0m_num_yielded\u001b[0m \u001b[0;34m+=\u001b[0m \u001b[0;36m1\u001b[0m\u001b[0;34m\u001b[0m\u001b[0;34m\u001b[0m\u001b[0m\n\u001b[1;32m    683\u001b[0m             \u001b[0;32mif\u001b[0m \u001b[0mself\u001b[0m\u001b[0;34m.\u001b[0m\u001b[0m_dataset_kind\u001b[0m \u001b[0;34m==\u001b[0m \u001b[0m_DatasetKind\u001b[0m\u001b[0;34m.\u001b[0m\u001b[0mIterable\u001b[0m \u001b[0;32mand\u001b[0m\u001b[0;31m \u001b[0m\u001b[0;31m\\\u001b[0m\u001b[0;34m\u001b[0m\u001b[0;34m\u001b[0m\u001b[0m\n",
            "\u001b[0;32m/usr/local/lib/python3.7/dist-packages/torch/utils/data/dataloader.py\u001b[0m in \u001b[0;36m_next_data\u001b[0;34m(self)\u001b[0m\n\u001b[1;32m   1357\u001b[0m \u001b[0;34m\u001b[0m\u001b[0m\n\u001b[1;32m   1358\u001b[0m             \u001b[0;32massert\u001b[0m \u001b[0;32mnot\u001b[0m \u001b[0mself\u001b[0m\u001b[0;34m.\u001b[0m\u001b[0m_shutdown\u001b[0m \u001b[0;32mand\u001b[0m \u001b[0mself\u001b[0m\u001b[0;34m.\u001b[0m\u001b[0m_tasks_outstanding\u001b[0m \u001b[0;34m>\u001b[0m \u001b[0;36m0\u001b[0m\u001b[0;34m\u001b[0m\u001b[0;34m\u001b[0m\u001b[0m\n\u001b[0;32m-> 1359\u001b[0;31m             \u001b[0midx\u001b[0m\u001b[0;34m,\u001b[0m \u001b[0mdata\u001b[0m \u001b[0;34m=\u001b[0m \u001b[0mself\u001b[0m\u001b[0;34m.\u001b[0m\u001b[0m_get_data\u001b[0m\u001b[0;34m(\u001b[0m\u001b[0;34m)\u001b[0m\u001b[0;34m\u001b[0m\u001b[0;34m\u001b[0m\u001b[0m\n\u001b[0m\u001b[1;32m   1360\u001b[0m             \u001b[0mself\u001b[0m\u001b[0;34m.\u001b[0m\u001b[0m_tasks_outstanding\u001b[0m \u001b[0;34m-=\u001b[0m \u001b[0;36m1\u001b[0m\u001b[0;34m\u001b[0m\u001b[0;34m\u001b[0m\u001b[0m\n\u001b[1;32m   1361\u001b[0m             \u001b[0;32mif\u001b[0m \u001b[0mself\u001b[0m\u001b[0;34m.\u001b[0m\u001b[0m_dataset_kind\u001b[0m \u001b[0;34m==\u001b[0m \u001b[0m_DatasetKind\u001b[0m\u001b[0;34m.\u001b[0m\u001b[0mIterable\u001b[0m\u001b[0;34m:\u001b[0m\u001b[0;34m\u001b[0m\u001b[0;34m\u001b[0m\u001b[0m\n",
            "\u001b[0;32m/usr/local/lib/python3.7/dist-packages/torch/utils/data/dataloader.py\u001b[0m in \u001b[0;36m_get_data\u001b[0;34m(self)\u001b[0m\n\u001b[1;32m   1313\u001b[0m         \u001b[0;32melif\u001b[0m \u001b[0mself\u001b[0m\u001b[0;34m.\u001b[0m\u001b[0m_pin_memory\u001b[0m\u001b[0;34m:\u001b[0m\u001b[0;34m\u001b[0m\u001b[0;34m\u001b[0m\u001b[0m\n\u001b[1;32m   1314\u001b[0m             \u001b[0;32mwhile\u001b[0m \u001b[0mself\u001b[0m\u001b[0;34m.\u001b[0m\u001b[0m_pin_memory_thread\u001b[0m\u001b[0;34m.\u001b[0m\u001b[0mis_alive\u001b[0m\u001b[0;34m(\u001b[0m\u001b[0;34m)\u001b[0m\u001b[0;34m:\u001b[0m\u001b[0;34m\u001b[0m\u001b[0;34m\u001b[0m\u001b[0m\n\u001b[0;32m-> 1315\u001b[0;31m                 \u001b[0msuccess\u001b[0m\u001b[0;34m,\u001b[0m \u001b[0mdata\u001b[0m \u001b[0;34m=\u001b[0m \u001b[0mself\u001b[0m\u001b[0;34m.\u001b[0m\u001b[0m_try_get_data\u001b[0m\u001b[0;34m(\u001b[0m\u001b[0;34m)\u001b[0m\u001b[0;34m\u001b[0m\u001b[0;34m\u001b[0m\u001b[0m\n\u001b[0m\u001b[1;32m   1316\u001b[0m                 \u001b[0;32mif\u001b[0m \u001b[0msuccess\u001b[0m\u001b[0;34m:\u001b[0m\u001b[0;34m\u001b[0m\u001b[0;34m\u001b[0m\u001b[0m\n\u001b[1;32m   1317\u001b[0m                     \u001b[0;32mreturn\u001b[0m \u001b[0mdata\u001b[0m\u001b[0;34m\u001b[0m\u001b[0;34m\u001b[0m\u001b[0m\n",
            "\u001b[0;32m/usr/local/lib/python3.7/dist-packages/torch/utils/data/dataloader.py\u001b[0m in \u001b[0;36m_try_get_data\u001b[0;34m(self, timeout)\u001b[0m\n\u001b[1;32m   1161\u001b[0m         \u001b[0;31m#   (bool: whether successfully get data, any: data if successful else None)\u001b[0m\u001b[0;34m\u001b[0m\u001b[0;34m\u001b[0m\u001b[0;34m\u001b[0m\u001b[0m\n\u001b[1;32m   1162\u001b[0m         \u001b[0;32mtry\u001b[0m\u001b[0;34m:\u001b[0m\u001b[0;34m\u001b[0m\u001b[0;34m\u001b[0m\u001b[0m\n\u001b[0;32m-> 1163\u001b[0;31m             \u001b[0mdata\u001b[0m \u001b[0;34m=\u001b[0m \u001b[0mself\u001b[0m\u001b[0;34m.\u001b[0m\u001b[0m_data_queue\u001b[0m\u001b[0;34m.\u001b[0m\u001b[0mget\u001b[0m\u001b[0;34m(\u001b[0m\u001b[0mtimeout\u001b[0m\u001b[0;34m=\u001b[0m\u001b[0mtimeout\u001b[0m\u001b[0;34m)\u001b[0m\u001b[0;34m\u001b[0m\u001b[0;34m\u001b[0m\u001b[0m\n\u001b[0m\u001b[1;32m   1164\u001b[0m             \u001b[0;32mreturn\u001b[0m \u001b[0;34m(\u001b[0m\u001b[0;32mTrue\u001b[0m\u001b[0;34m,\u001b[0m \u001b[0mdata\u001b[0m\u001b[0;34m)\u001b[0m\u001b[0;34m\u001b[0m\u001b[0;34m\u001b[0m\u001b[0m\n\u001b[1;32m   1165\u001b[0m         \u001b[0;32mexcept\u001b[0m \u001b[0mException\u001b[0m \u001b[0;32mas\u001b[0m \u001b[0me\u001b[0m\u001b[0;34m:\u001b[0m\u001b[0;34m\u001b[0m\u001b[0;34m\u001b[0m\u001b[0m\n",
            "\u001b[0;32m/usr/lib/python3.7/queue.py\u001b[0m in \u001b[0;36mget\u001b[0;34m(self, block, timeout)\u001b[0m\n\u001b[1;32m    177\u001b[0m                     \u001b[0;32mif\u001b[0m \u001b[0mremaining\u001b[0m \u001b[0;34m<=\u001b[0m \u001b[0;36m0.0\u001b[0m\u001b[0;34m:\u001b[0m\u001b[0;34m\u001b[0m\u001b[0;34m\u001b[0m\u001b[0m\n\u001b[1;32m    178\u001b[0m                         \u001b[0;32mraise\u001b[0m \u001b[0mEmpty\u001b[0m\u001b[0;34m\u001b[0m\u001b[0;34m\u001b[0m\u001b[0m\n\u001b[0;32m--> 179\u001b[0;31m                     \u001b[0mself\u001b[0m\u001b[0;34m.\u001b[0m\u001b[0mnot_empty\u001b[0m\u001b[0;34m.\u001b[0m\u001b[0mwait\u001b[0m\u001b[0;34m(\u001b[0m\u001b[0mremaining\u001b[0m\u001b[0;34m)\u001b[0m\u001b[0;34m\u001b[0m\u001b[0;34m\u001b[0m\u001b[0m\n\u001b[0m\u001b[1;32m    180\u001b[0m             \u001b[0mitem\u001b[0m \u001b[0;34m=\u001b[0m \u001b[0mself\u001b[0m\u001b[0;34m.\u001b[0m\u001b[0m_get\u001b[0m\u001b[0;34m(\u001b[0m\u001b[0;34m)\u001b[0m\u001b[0;34m\u001b[0m\u001b[0;34m\u001b[0m\u001b[0m\n\u001b[1;32m    181\u001b[0m             \u001b[0mself\u001b[0m\u001b[0;34m.\u001b[0m\u001b[0mnot_full\u001b[0m\u001b[0;34m.\u001b[0m\u001b[0mnotify\u001b[0m\u001b[0;34m(\u001b[0m\u001b[0;34m)\u001b[0m\u001b[0;34m\u001b[0m\u001b[0;34m\u001b[0m\u001b[0m\n",
            "\u001b[0;32m/usr/lib/python3.7/threading.py\u001b[0m in \u001b[0;36mwait\u001b[0;34m(self, timeout)\u001b[0m\n\u001b[1;32m    298\u001b[0m             \u001b[0;32melse\u001b[0m\u001b[0;34m:\u001b[0m\u001b[0;34m\u001b[0m\u001b[0;34m\u001b[0m\u001b[0m\n\u001b[1;32m    299\u001b[0m                 \u001b[0;32mif\u001b[0m \u001b[0mtimeout\u001b[0m \u001b[0;34m>\u001b[0m \u001b[0;36m0\u001b[0m\u001b[0;34m:\u001b[0m\u001b[0;34m\u001b[0m\u001b[0;34m\u001b[0m\u001b[0m\n\u001b[0;32m--> 300\u001b[0;31m                     \u001b[0mgotit\u001b[0m \u001b[0;34m=\u001b[0m \u001b[0mwaiter\u001b[0m\u001b[0;34m.\u001b[0m\u001b[0macquire\u001b[0m\u001b[0;34m(\u001b[0m\u001b[0;32mTrue\u001b[0m\u001b[0;34m,\u001b[0m \u001b[0mtimeout\u001b[0m\u001b[0;34m)\u001b[0m\u001b[0;34m\u001b[0m\u001b[0;34m\u001b[0m\u001b[0m\n\u001b[0m\u001b[1;32m    301\u001b[0m                 \u001b[0;32melse\u001b[0m\u001b[0;34m:\u001b[0m\u001b[0;34m\u001b[0m\u001b[0;34m\u001b[0m\u001b[0m\n\u001b[1;32m    302\u001b[0m                     \u001b[0mgotit\u001b[0m \u001b[0;34m=\u001b[0m \u001b[0mwaiter\u001b[0m\u001b[0;34m.\u001b[0m\u001b[0macquire\u001b[0m\u001b[0;34m(\u001b[0m\u001b[0;32mFalse\u001b[0m\u001b[0;34m)\u001b[0m\u001b[0;34m\u001b[0m\u001b[0;34m\u001b[0m\u001b[0m\n",
            "\u001b[0;31mKeyboardInterrupt\u001b[0m: "
          ]
        }
      ]
    },
    {
      "cell_type": "code",
      "source": [
        "torch.save(trained_model, 'resnet50_finetuned.pt')"
      ],
      "metadata": {
        "id": "3zJNGqI-J4gl"
      },
      "execution_count": 136,
      "outputs": []
    },
    {
      "cell_type": "code",
      "source": [
        "torch.save(trained_model, 'resnet50.pt')"
      ],
      "metadata": {
        "id": "EGEe6NqjjT9w"
      },
      "execution_count": null,
      "outputs": []
    },
    {
      "cell_type": "code",
      "source": [
        "model = torch.load('resnet_finetuned.pt')\n",
        "model.eval()"
      ],
      "metadata": {
        "id": "RYZgNLVYGKNc"
      },
      "execution_count": null,
      "outputs": []
    },
    {
      "cell_type": "code",
      "source": [
        "import torch \n",
        "import torchvision\n",
        "from torchvision import models, transforms\n",
        "from PIL import Image\n",
        "import pandas as pd\n",
        "\n",
        "\n",
        "import os\n",
        "import numpy as np\n",
        "\n",
        "import glob\n",
        "import random\n",
        "import time\n",
        "\n",
        "device = 'cuda' if torch.cuda.is_available() else 'cpu'\n",
        "\n",
        "PATH_MODEL = r'resnet50_finetuned.pt'\n",
        "PATH_DATA = r'/content/drive/MyDrive/GeorgeDataSet/test_imgs'\n",
        "PATH_OUTPUT = r'results.csv'\n",
        "\n",
        "if __name__ =='__main__':\n",
        "\n",
        "    \n",
        "    model = torch.load(PATH_MODEL)\n",
        "    model.eval()\n",
        "    classes = ['nofire', 'fire']\n",
        "    classes_to_idx = {\n",
        "        'nofire' : 0,\n",
        "        'fire' : 1\n",
        "    }\n",
        "\n",
        "    transformations=transforms.Compose([\n",
        "                 transforms.Resize(size=224),\n",
        "                #  transforms.CenterCrop(size=224),\n",
        "                 transforms.ToTensor(),\n",
        "                 transforms.Normalize([0.485, 0.456, 0.406],\n",
        "                                      [0.229, 0.224, 0.225])\n",
        "    ])\n",
        "    \n",
        "    img_paths = []\n",
        "    images_paths = []\n",
        "    \n",
        "    for path in  os.listdir(PATH_DATA):\n",
        "        img_paths.append(os.path.join(PATH_DATA, path)) #for loading images\n",
        "        images_paths.append(path)                       #for result.csv\n",
        "\n",
        "    \n",
        "    result_labels = []                                  #for result.csv\n",
        "    with torch.no_grad():\n",
        "        for num, img_path in enumerate(img_paths):\n",
        "            img = Image.open(img_path).convert('RGB')\n",
        "            inputs = transformations(img).unsqueeze(0).to(device)\n",
        "            outputs = model(inputs)\n",
        "            print(torch.softmax(outputs, dim=1))\n",
        "            _, preds = torch.max(outputs, dim=1)\n",
        "            result_labels.append(classes_to_idx[classes[preds]])\n",
        "\n",
        "    result = pd.DataFrame()\n",
        "    result['img'] = images_paths\n",
        "    result['target'] = result_labels\n",
        "    result.to_csv(PATH_OUTPUT, index=False,header=False)\n",
        "    print('Success!\\nResults saved at {}'.format(PATH_OUTPUT))\n",
        "    "
      ],
      "metadata": {
        "colab": {
          "base_uri": "https://localhost:8080/"
        },
        "id": "LILnvUAiGyhk",
        "outputId": "2515d988-c9e6-4939-bfb5-9f9b1f9c2146"
      },
      "execution_count": 192,
      "outputs": [
        {
          "output_type": "stream",
          "name": "stdout",
          "text": [
            "tensor([[0.0365, 0.9635]], device='cuda:0')\n",
            "tensor([[0.0260, 0.9740]], device='cuda:0')\n",
            "tensor([[9.9984e-01, 1.6032e-04]], device='cuda:0')\n",
            "tensor([[1.0000e+00, 5.1443e-07]], device='cuda:0')\n",
            "tensor([[1.8728e-05, 9.9998e-01]], device='cuda:0')\n",
            "tensor([[1.0000e+00, 5.0394e-08]], device='cuda:0')\n",
            "tensor([[9.5714e-06, 9.9999e-01]], device='cuda:0')\n",
            "tensor([[2.7458e-07, 1.0000e+00]], device='cuda:0')\n",
            "tensor([[1.4018e-05, 9.9999e-01]], device='cuda:0')\n",
            "tensor([[9.1356e-07, 1.0000e+00]], device='cuda:0')\n",
            "tensor([[1.6721e-06, 1.0000e+00]], device='cuda:0')\n",
            "tensor([[0.9990, 0.0010]], device='cuda:0')\n",
            "tensor([[1.7221e-07, 1.0000e+00]], device='cuda:0')\n",
            "tensor([[4.8246e-08, 1.0000e+00]], device='cuda:0')\n",
            "tensor([[5.8980e-04, 9.9941e-01]], device='cuda:0')\n",
            "tensor([[0.0108, 0.9892]], device='cuda:0')\n",
            "tensor([[2.4730e-04, 9.9975e-01]], device='cuda:0')\n",
            "tensor([[3.1590e-04, 9.9968e-01]], device='cuda:0')\n",
            "tensor([[0.0191, 0.9809]], device='cuda:0')\n",
            "tensor([[1.0000e+00, 1.4655e-10]], device='cuda:0')\n",
            "tensor([[9.8119e-06, 9.9999e-01]], device='cuda:0')\n",
            "tensor([[9.9999e-01, 9.0617e-06]], device='cuda:0')\n",
            "tensor([[0.0108, 0.9892]], device='cuda:0')\n",
            "tensor([[0.0089, 0.9911]], device='cuda:0')\n",
            "tensor([[3.0046e-07, 1.0000e+00]], device='cuda:0')\n",
            "tensor([[1.3585e-05, 9.9999e-01]], device='cuda:0')\n",
            "tensor([[0.0620, 0.9380]], device='cuda:0')\n",
            "tensor([[0.9305, 0.0695]], device='cuda:0')\n",
            "tensor([[2.5944e-06, 1.0000e+00]], device='cuda:0')\n",
            "tensor([[1.4919e-04, 9.9985e-01]], device='cuda:0')\n",
            "tensor([[4.3743e-06, 1.0000e+00]], device='cuda:0')\n",
            "tensor([[8.1331e-06, 9.9999e-01]], device='cuda:0')\n",
            "tensor([[1.0000e+00, 2.6461e-07]], device='cuda:0')\n",
            "tensor([[0.9666, 0.0334]], device='cuda:0')\n",
            "tensor([[0.9958, 0.0042]], device='cuda:0')\n",
            "tensor([[4.7686e-08, 1.0000e+00]], device='cuda:0')\n",
            "tensor([[6.1942e-06, 9.9999e-01]], device='cuda:0')\n",
            "tensor([[4.1045e-06, 1.0000e+00]], device='cuda:0')\n",
            "tensor([[0.0487, 0.9513]], device='cuda:0')\n",
            "tensor([[1.0000e+00, 4.9133e-11]], device='cuda:0')\n",
            "tensor([[1.0000e+00, 8.6914e-13]], device='cuda:0')\n",
            "tensor([[1.0000e+00, 6.0445e-11]], device='cuda:0')\n",
            "tensor([[1.0021e-05, 9.9999e-01]], device='cuda:0')\n",
            "tensor([[5.4336e-06, 9.9999e-01]], device='cuda:0')\n",
            "tensor([[0.0226, 0.9774]], device='cuda:0')\n",
            "tensor([[0.0344, 0.9656]], device='cuda:0')\n",
            "tensor([[1.0000e+00, 5.8247e-07]], device='cuda:0')\n",
            "tensor([[0.0098, 0.9902]], device='cuda:0')\n",
            "tensor([[1.0000e+00, 2.1823e-09]], device='cuda:0')\n",
            "tensor([[0.0012, 0.9988]], device='cuda:0')\n",
            "tensor([[0.0043, 0.9957]], device='cuda:0')\n",
            "tensor([[0.7176, 0.2824]], device='cuda:0')\n",
            "tensor([[1.0000e+00, 3.3571e-07]], device='cuda:0')\n",
            "tensor([[1.0000e+00, 7.8854e-08]], device='cuda:0')\n",
            "tensor([[9.9993e-01, 7.1283e-05]], device='cuda:0')\n",
            "tensor([[0.0108, 0.9892]], device='cuda:0')\n",
            "tensor([[9.9969e-01, 3.1335e-04]], device='cuda:0')\n",
            "tensor([[9.9999e-01, 8.2300e-06]], device='cuda:0')\n",
            "tensor([[6.6549e-08, 1.0000e+00]], device='cuda:0')\n",
            "tensor([[9.9990e-01, 1.0264e-04]], device='cuda:0')\n",
            "tensor([[0.0025, 0.9975]], device='cuda:0')\n",
            "tensor([[0.0081, 0.9919]], device='cuda:0')\n",
            "tensor([[6.8956e-05, 9.9993e-01]], device='cuda:0')\n",
            "tensor([[3.2680e-08, 1.0000e+00]], device='cuda:0')\n",
            "tensor([[1.4134e-07, 1.0000e+00]], device='cuda:0')\n",
            "tensor([[2.3431e-08, 1.0000e+00]], device='cuda:0')\n",
            "tensor([[2.2181e-05, 9.9998e-01]], device='cuda:0')\n",
            "tensor([[1.0000e+00, 3.6794e-11]], device='cuda:0')\n",
            "tensor([[5.5894e-04, 9.9944e-01]], device='cuda:0')\n",
            "tensor([[4.5339e-04, 9.9955e-01]], device='cuda:0')\n",
            "tensor([[0.1174, 0.8826]], device='cuda:0')\n",
            "tensor([[6.7431e-09, 1.0000e+00]], device='cuda:0')\n",
            "tensor([[7.0867e-09, 1.0000e+00]], device='cuda:0')\n",
            "tensor([[1.0000e+00, 1.7861e-11]], device='cuda:0')\n",
            "tensor([[9.9997e-01, 2.5088e-05]], device='cuda:0')\n",
            "tensor([[2.2239e-04, 9.9978e-01]], device='cuda:0')\n",
            "tensor([[1.0000e+00, 2.3189e-11]], device='cuda:0')\n",
            "tensor([[1.4782e-09, 1.0000e+00]], device='cuda:0')\n",
            "tensor([[5.3066e-10, 1.0000e+00]], device='cuda:0')\n",
            "tensor([[1.0000e+00, 5.3482e-16]], device='cuda:0')\n",
            "tensor([[2.2083e-07, 1.0000e+00]], device='cuda:0')\n",
            "tensor([[0.9989, 0.0011]], device='cuda:0')\n",
            "tensor([[0.6430, 0.3570]], device='cuda:0')\n",
            "tensor([[1.1286e-04, 9.9989e-01]], device='cuda:0')\n",
            "tensor([[9.9998e-01, 1.9580e-05]], device='cuda:0')\n",
            "tensor([[5.8333e-04, 9.9942e-01]], device='cuda:0')\n",
            "tensor([[9.4045e-05, 9.9991e-01]], device='cuda:0')\n",
            "tensor([[1.0000e+00, 3.3942e-13]], device='cuda:0')\n",
            "tensor([[9.9986e-01, 1.4457e-04]], device='cuda:0')\n",
            "tensor([[1.0000e+00, 4.9470e-12]], device='cuda:0')\n",
            "tensor([[1.2666e-05, 9.9999e-01]], device='cuda:0')\n",
            "tensor([[0.0045, 0.9955]], device='cuda:0')\n",
            "tensor([[1.0000e+00, 2.1714e-10]], device='cuda:0')\n",
            "tensor([[1.0000e+00, 1.9112e-08]], device='cuda:0')\n",
            "tensor([[9.4166e-05, 9.9991e-01]], device='cuda:0')\n",
            "tensor([[1.4447e-05, 9.9999e-01]], device='cuda:0')\n",
            "tensor([[0.9969, 0.0031]], device='cuda:0')\n",
            "tensor([[1.3730e-05, 9.9999e-01]], device='cuda:0')\n",
            "tensor([[9.9951e-01, 4.8912e-04]], device='cuda:0')\n",
            "tensor([[4.7732e-06, 1.0000e+00]], device='cuda:0')\n",
            "tensor([[0.9956, 0.0044]], device='cuda:0')\n",
            "tensor([[9.2182e-07, 1.0000e+00]], device='cuda:0')\n",
            "tensor([[1.0000e+00, 7.7598e-11]], device='cuda:0')\n",
            "tensor([[2.0907e-05, 9.9998e-01]], device='cuda:0')\n",
            "tensor([[9.9923e-01, 7.7225e-04]], device='cuda:0')\n",
            "tensor([[1.0000e+00, 3.4926e-13]], device='cuda:0')\n",
            "tensor([[0.0190, 0.9810]], device='cuda:0')\n",
            "tensor([[2.5815e-05, 9.9997e-01]], device='cuda:0')\n",
            "tensor([[1.0000e+00, 4.3534e-06]], device='cuda:0')\n",
            "tensor([[0.5025, 0.4975]], device='cuda:0')\n",
            "tensor([[1.5475e-04, 9.9985e-01]], device='cuda:0')\n",
            "tensor([[1.0000e+00, 9.8219e-13]], device='cuda:0')\n",
            "tensor([[0.6000, 0.4000]], device='cuda:0')\n",
            "tensor([[1.0000e+00, 1.7048e-06]], device='cuda:0')\n",
            "tensor([[6.1123e-08, 1.0000e+00]], device='cuda:0')\n",
            "tensor([[1.4502e-06, 1.0000e+00]], device='cuda:0')\n",
            "tensor([[1.0000e+00, 1.0259e-06]], device='cuda:0')\n",
            "tensor([[1.5789e-06, 1.0000e+00]], device='cuda:0')\n",
            "tensor([[8.4668e-04, 9.9915e-01]], device='cuda:0')\n",
            "tensor([[2.7913e-06, 1.0000e+00]], device='cuda:0')\n",
            "tensor([[1.0000e+00, 3.5835e-09]], device='cuda:0')\n",
            "tensor([[6.0847e-04, 9.9939e-01]], device='cuda:0')\n",
            "tensor([[1.0000e+00, 2.8214e-06]], device='cuda:0')\n",
            "tensor([[1.0000e+00, 2.5053e-09]], device='cuda:0')\n",
            "tensor([[1.0000e+00, 1.1032e-09]], device='cuda:0')\n",
            "tensor([[1.0000e+00, 1.7765e-07]], device='cuda:0')\n",
            "tensor([[0.0030, 0.9970]], device='cuda:0')\n",
            "tensor([[0.0100, 0.9900]], device='cuda:0')\n",
            "tensor([[1.0000e+00, 2.2543e-09]], device='cuda:0')\n",
            "tensor([[3.7165e-05, 9.9996e-01]], device='cuda:0')\n",
            "tensor([[1.0000e+00, 3.5557e-09]], device='cuda:0')\n",
            "tensor([[9.9975e-01, 2.5400e-04]], device='cuda:0')\n",
            "tensor([[1.0000e+00, 9.7319e-10]], device='cuda:0')\n",
            "tensor([[4.3187e-05, 9.9996e-01]], device='cuda:0')\n",
            "tensor([[1.0000e+00, 8.6758e-07]], device='cuda:0')\n",
            "tensor([[1.2570e-05, 9.9999e-01]], device='cuda:0')\n",
            "tensor([[0.0085, 0.9915]], device='cuda:0')\n",
            "tensor([[0.9926, 0.0074]], device='cuda:0')\n",
            "tensor([[1.0000e+00, 1.3586e-07]], device='cuda:0')\n",
            "tensor([[9.8434e-04, 9.9902e-01]], device='cuda:0')\n",
            "tensor([[1.0000e+00, 2.1689e-08]], device='cuda:0')\n",
            "tensor([[0.9781, 0.0219]], device='cuda:0')\n",
            "tensor([[0.0106, 0.9894]], device='cuda:0')\n",
            "tensor([[1.0000e+00, 2.6598e-10]], device='cuda:0')\n",
            "tensor([[4.4115e-08, 1.0000e+00]], device='cuda:0')\n",
            "tensor([[1.7352e-07, 1.0000e+00]], device='cuda:0')\n",
            "tensor([[0.9958, 0.0042]], device='cuda:0')\n",
            "tensor([[0.9987, 0.0013]], device='cuda:0')\n",
            "tensor([[0.9656, 0.0344]], device='cuda:0')\n",
            "tensor([[2.2808e-05, 9.9998e-01]], device='cuda:0')\n",
            "tensor([[3.8400e-06, 1.0000e+00]], device='cuda:0')\n",
            "tensor([[4.1392e-06, 1.0000e+00]], device='cuda:0')\n",
            "tensor([[1.0000e+00, 5.2714e-07]], device='cuda:0')\n",
            "tensor([[1.0000e+00, 9.7486e-12]], device='cuda:0')\n",
            "tensor([[7.5456e-08, 1.0000e+00]], device='cuda:0')\n",
            "tensor([[8.1830e-05, 9.9992e-01]], device='cuda:0')\n",
            "tensor([[1.0000e+00, 5.1234e-09]], device='cuda:0')\n",
            "tensor([[1.0000e+00, 3.2211e-12]], device='cuda:0')\n",
            "tensor([[1.0000e+00, 5.0668e-15]], device='cuda:0')\n",
            "tensor([[0.0157, 0.9843]], device='cuda:0')\n",
            "tensor([[1.0000e+00, 4.9574e-11]], device='cuda:0')\n",
            "tensor([[1.2429e-06, 1.0000e+00]], device='cuda:0')\n",
            "tensor([[3.7721e-04, 9.9962e-01]], device='cuda:0')\n",
            "tensor([[0.9984, 0.0016]], device='cuda:0')\n",
            "tensor([[0.2302, 0.7698]], device='cuda:0')\n",
            "tensor([[2.3458e-05, 9.9998e-01]], device='cuda:0')\n",
            "tensor([[9.9977e-01, 2.2698e-04]], device='cuda:0')\n",
            "tensor([[1.0000e+00, 1.7603e-12]], device='cuda:0')\n",
            "tensor([[1.0000e+00, 1.1317e-10]], device='cuda:0')\n",
            "tensor([[1.1371e-08, 1.0000e+00]], device='cuda:0')\n",
            "tensor([[0.8083, 0.1917]], device='cuda:0')\n",
            "tensor([[1.0000e+00, 2.0662e-14]], device='cuda:0')\n",
            "tensor([[0.0018, 0.9982]], device='cuda:0')\n",
            "tensor([[0.0037, 0.9963]], device='cuda:0')\n",
            "tensor([[2.9593e-07, 1.0000e+00]], device='cuda:0')\n",
            "tensor([[2.0510e-05, 9.9998e-01]], device='cuda:0')\n",
            "tensor([[1.0000e+00, 1.2503e-09]], device='cuda:0')\n",
            "tensor([[9.9989e-01, 1.0581e-04]], device='cuda:0')\n",
            "tensor([[7.8570e-09, 1.0000e+00]], device='cuda:0')\n",
            "tensor([[1.0000e+00, 8.3992e-10]], device='cuda:0')\n",
            "tensor([[1.0000e+00, 8.6608e-14]], device='cuda:0')\n",
            "tensor([[4.5281e-07, 1.0000e+00]], device='cuda:0')\n",
            "tensor([[1.0000e+00, 3.1392e-09]], device='cuda:0')\n",
            "tensor([[1.0000e+00, 8.8878e-13]], device='cuda:0')\n",
            "tensor([[9.9993e-01, 7.3551e-05]], device='cuda:0')\n",
            "tensor([[1.0000e+00, 4.6284e-06]], device='cuda:0')\n",
            "tensor([[0.1546, 0.8454]], device='cuda:0')\n",
            "tensor([[0.0023, 0.9977]], device='cuda:0')\n",
            "tensor([[0.0011, 0.9989]], device='cuda:0')\n",
            "tensor([[5.8360e-06, 9.9999e-01]], device='cuda:0')\n",
            "tensor([[0.0029, 0.9971]], device='cuda:0')\n",
            "tensor([[9.9999e-01, 7.1723e-06]], device='cuda:0')\n",
            "tensor([[3.9141e-04, 9.9961e-01]], device='cuda:0')\n",
            "tensor([[1.0000e+00, 9.6996e-07]], device='cuda:0')\n",
            "tensor([[0.0192, 0.9808]], device='cuda:0')\n",
            "tensor([[1.0000e+00, 5.4591e-10]], device='cuda:0')\n",
            "tensor([[1.9112e-07, 1.0000e+00]], device='cuda:0')\n",
            "tensor([[9.9985e-01, 1.5497e-04]], device='cuda:0')\n",
            "tensor([[1.0000e+00, 2.5326e-09]], device='cuda:0')\n",
            "tensor([[1.0000e+00, 6.1512e-08]], device='cuda:0')\n",
            "tensor([[2.0840e-08, 1.0000e+00]], device='cuda:0')\n",
            "tensor([[9.9983e-01, 1.6936e-04]], device='cuda:0')\n",
            "tensor([[1.0000e+00, 2.2267e-12]], device='cuda:0')\n",
            "tensor([[1.6763e-05, 9.9998e-01]], device='cuda:0')\n",
            "tensor([[1.4249e-07, 1.0000e+00]], device='cuda:0')\n",
            "tensor([[1.0000e+00, 1.9729e-08]], device='cuda:0')\n",
            "tensor([[1.0000e+00, 9.8072e-08]], device='cuda:0')\n",
            "tensor([[1.0000e+00, 6.2769e-08]], device='cuda:0')\n",
            "tensor([[0.9978, 0.0022]], device='cuda:0')\n",
            "tensor([[1.0000e+00, 2.4307e-06]], device='cuda:0')\n",
            "tensor([[0.4884, 0.5116]], device='cuda:0')\n",
            "tensor([[0.0215, 0.9785]], device='cuda:0')\n",
            "tensor([[4.1577e-05, 9.9996e-01]], device='cuda:0')\n",
            "tensor([[1.0000e+00, 5.1169e-10]], device='cuda:0')\n",
            "tensor([[0.0050, 0.9950]], device='cuda:0')\n",
            "tensor([[1.6394e-09, 1.0000e+00]], device='cuda:0')\n",
            "tensor([[1.0000e+00, 7.0744e-07]], device='cuda:0')\n",
            "tensor([[4.3096e-06, 1.0000e+00]], device='cuda:0')\n",
            "tensor([[4.4433e-10, 1.0000e+00]], device='cuda:0')\n",
            "tensor([[9.9986e-01, 1.3522e-04]], device='cuda:0')\n",
            "tensor([[1.0000e+00, 2.8878e-11]], device='cuda:0')\n",
            "tensor([[1.0000e+00, 1.6087e-13]], device='cuda:0')\n",
            "tensor([[1.0000e+00, 1.3528e-10]], device='cuda:0')\n",
            "tensor([[9.9989e-01, 1.0935e-04]], device='cuda:0')\n",
            "tensor([[0.9970, 0.0030]], device='cuda:0')\n",
            "tensor([[0.2407, 0.7593]], device='cuda:0')\n",
            "tensor([[3.1893e-06, 1.0000e+00]], device='cuda:0')\n",
            "tensor([[9.7996e-05, 9.9990e-01]], device='cuda:0')\n",
            "tensor([[6.3291e-05, 9.9994e-01]], device='cuda:0')\n",
            "tensor([[1.0000e+00, 2.5128e-06]], device='cuda:0')\n",
            "tensor([[1.0000e+00, 1.9237e-08]], device='cuda:0')\n",
            "tensor([[1.0000e+00, 3.2305e-07]], device='cuda:0')\n",
            "tensor([[1.0000e+00, 1.4542e-10]], device='cuda:0')\n",
            "tensor([[0.0504, 0.9496]], device='cuda:0')\n",
            "tensor([[0.0012, 0.9988]], device='cuda:0')\n",
            "tensor([[2.5685e-07, 1.0000e+00]], device='cuda:0')\n",
            "tensor([[1.0000e+00, 1.0069e-06]], device='cuda:0')\n",
            "tensor([[1.0000e+00, 2.9797e-10]], device='cuda:0')\n",
            "tensor([[1.0000e+00, 1.8531e-08]], device='cuda:0')\n",
            "tensor([[1.0000e+00, 6.8458e-07]], device='cuda:0')\n",
            "tensor([[0.8254, 0.1746]], device='cuda:0')\n",
            "tensor([[9.9997e-01, 2.5273e-05]], device='cuda:0')\n",
            "tensor([[1.8049e-06, 1.0000e+00]], device='cuda:0')\n",
            "tensor([[5.6941e-07, 1.0000e+00]], device='cuda:0')\n",
            "tensor([[2.5418e-04, 9.9975e-01]], device='cuda:0')\n",
            "tensor([[3.8860e-10, 1.0000e+00]], device='cuda:0')\n",
            "tensor([[0.0210, 0.9790]], device='cuda:0')\n",
            "tensor([[1.4447e-05, 9.9999e-01]], device='cuda:0')\n",
            "tensor([[0.5667, 0.4333]], device='cuda:0')\n",
            "tensor([[6.6255e-08, 1.0000e+00]], device='cuda:0')\n",
            "tensor([[1.0000e+00, 4.5437e-06]], device='cuda:0')\n",
            "tensor([[4.1667e-04, 9.9958e-01]], device='cuda:0')\n",
            "tensor([[1.0000e+00, 6.1231e-09]], device='cuda:0')\n",
            "tensor([[2.8524e-06, 1.0000e+00]], device='cuda:0')\n",
            "tensor([[1.1723e-08, 1.0000e+00]], device='cuda:0')\n",
            "tensor([[0.4070, 0.5930]], device='cuda:0')\n",
            "tensor([[5.9367e-05, 9.9994e-01]], device='cuda:0')\n",
            "tensor([[1.0000e+00, 1.8619e-08]], device='cuda:0')\n",
            "tensor([[1.0000e+00, 1.5529e-08]], device='cuda:0')\n",
            "tensor([[0.9845, 0.0155]], device='cuda:0')\n",
            "tensor([[7.3217e-07, 1.0000e+00]], device='cuda:0')\n",
            "tensor([[2.5181e-06, 1.0000e+00]], device='cuda:0')\n",
            "tensor([[1.0000e+00, 8.4325e-11]], device='cuda:0')\n",
            "tensor([[0.9952, 0.0048]], device='cuda:0')\n",
            "tensor([[9.9999e-01, 1.1390e-05]], device='cuda:0')\n",
            "tensor([[0.6759, 0.3241]], device='cuda:0')\n",
            "tensor([[1.0000e+00, 1.6885e-10]], device='cuda:0')\n",
            "tensor([[1.0000e+00, 2.4494e-06]], device='cuda:0')\n",
            "tensor([[1.5717e-05, 9.9998e-01]], device='cuda:0')\n",
            "tensor([[9.9990e-01, 9.9024e-05]], device='cuda:0')\n",
            "tensor([[0.9986, 0.0014]], device='cuda:0')\n",
            "tensor([[1.0000e+00, 1.5977e-14]], device='cuda:0')\n",
            "tensor([[1.0000e+00, 3.9704e-09]], device='cuda:0')\n",
            "tensor([[1.0000e+00, 7.3426e-07]], device='cuda:0')\n",
            "tensor([[0.0026, 0.9974]], device='cuda:0')\n",
            "tensor([[0.9961, 0.0039]], device='cuda:0')\n",
            "tensor([[3.3000e-08, 1.0000e+00]], device='cuda:0')\n",
            "tensor([[2.3235e-04, 9.9977e-01]], device='cuda:0')\n",
            "tensor([[0.9444, 0.0556]], device='cuda:0')\n",
            "tensor([[9.9998e-01, 1.9573e-05]], device='cuda:0')\n",
            "tensor([[1.7013e-04, 9.9983e-01]], device='cuda:0')\n",
            "tensor([[5.3384e-05, 9.9995e-01]], device='cuda:0')\n",
            "tensor([[1.0000e+00, 5.6220e-12]], device='cuda:0')\n",
            "tensor([[9.8214e-08, 1.0000e+00]], device='cuda:0')\n",
            "tensor([[1.0000e+00, 3.7299e-14]], device='cuda:0')\n",
            "tensor([[0.9842, 0.0158]], device='cuda:0')\n",
            "tensor([[1.4709e-05, 9.9999e-01]], device='cuda:0')\n",
            "tensor([[1.8142e-07, 1.0000e+00]], device='cuda:0')\n",
            "tensor([[9.9995e-01, 4.5650e-05]], device='cuda:0')\n",
            "tensor([[1.0000e+00, 1.4219e-09]], device='cuda:0')\n",
            "tensor([[1.0000e+00, 1.7594e-09]], device='cuda:0')\n",
            "tensor([[1.0000e+00, 3.0349e-06]], device='cuda:0')\n",
            "tensor([[9.9999e-01, 1.4207e-05]], device='cuda:0')\n",
            "tensor([[9.1185e-09, 1.0000e+00]], device='cuda:0')\n",
            "tensor([[0.9986, 0.0014]], device='cuda:0')\n",
            "tensor([[9.4502e-05, 9.9991e-01]], device='cuda:0')\n",
            "tensor([[0.0074, 0.9926]], device='cuda:0')\n",
            "tensor([[9.9984e-01, 1.6283e-04]], device='cuda:0')\n",
            "tensor([[3.6601e-05, 9.9996e-01]], device='cuda:0')\n",
            "tensor([[2.6813e-07, 1.0000e+00]], device='cuda:0')\n",
            "tensor([[1.0000e+00, 4.1280e-13]], device='cuda:0')\n",
            "tensor([[1.0000e+00, 4.1454e-10]], device='cuda:0')\n",
            "tensor([[1.6820e-04, 9.9983e-01]], device='cuda:0')\n",
            "tensor([[1.0000e+00, 2.5538e-06]], device='cuda:0')\n",
            "tensor([[9.9999e-01, 5.4120e-06]], device='cuda:0')\n",
            "tensor([[1.0000e+00, 1.9735e-14]], device='cuda:0')\n",
            "tensor([[1.0000e+00, 1.0032e-09]], device='cuda:0')\n",
            "tensor([[0.9988, 0.0012]], device='cuda:0')\n",
            "tensor([[9.9434e-06, 9.9999e-01]], device='cuda:0')\n",
            "tensor([[9.9977e-01, 2.2945e-04]], device='cuda:0')\n",
            "tensor([[4.6319e-06, 1.0000e+00]], device='cuda:0')\n",
            "tensor([[9.9953e-01, 4.7213e-04]], device='cuda:0')\n",
            "tensor([[1.0000e+00, 9.0841e-09]], device='cuda:0')\n",
            "tensor([[1.0000e+00, 2.2366e-08]], device='cuda:0')\n",
            "tensor([[0.9706, 0.0294]], device='cuda:0')\n",
            "tensor([[1.7071e-09, 1.0000e+00]], device='cuda:0')\n",
            "tensor([[1.0000e+00, 4.7783e-09]], device='cuda:0')\n",
            "tensor([[0.7106, 0.2894]], device='cuda:0')\n",
            "tensor([[0.3351, 0.6649]], device='cuda:0')\n",
            "tensor([[1.0000e+00, 6.1421e-12]], device='cuda:0')\n",
            "tensor([[0.5373, 0.4627]], device='cuda:0')\n",
            "tensor([[0.0026, 0.9974]], device='cuda:0')\n",
            "tensor([[6.6756e-08, 1.0000e+00]], device='cuda:0')\n",
            "tensor([[1.0000e+00, 4.3896e-06]], device='cuda:0')\n",
            "tensor([[8.5770e-07, 1.0000e+00]], device='cuda:0')\n",
            "tensor([[1.0000e+00, 5.7024e-11]], device='cuda:0')\n",
            "tensor([[1.7196e-06, 1.0000e+00]], device='cuda:0')\n",
            "tensor([[9.9976e-01, 2.4003e-04]], device='cuda:0')\n",
            "tensor([[1.0000e+00, 1.9172e-09]], device='cuda:0')\n",
            "tensor([[1.0000e+00, 1.4006e-12]], device='cuda:0')\n",
            "tensor([[0.0044, 0.9956]], device='cuda:0')\n",
            "tensor([[1.0000e+00, 1.2732e-08]], device='cuda:0')\n",
            "tensor([[9.9962e-01, 3.7812e-04]], device='cuda:0')\n",
            "tensor([[9.9993e-01, 7.0393e-05]], device='cuda:0')\n",
            "tensor([[9.9998e-01, 1.7871e-05]], device='cuda:0')\n",
            "tensor([[1.0000e+00, 2.2010e-09]], device='cuda:0')\n",
            "tensor([[0.0337, 0.9663]], device='cuda:0')\n",
            "tensor([[1.0000e+00, 6.4901e-10]], device='cuda:0')\n",
            "tensor([[9.9997e-01, 3.1025e-05]], device='cuda:0')\n",
            "tensor([[1.0000e+00, 7.9971e-08]], device='cuda:0')\n",
            "tensor([[9.9995e-01, 5.1695e-05]], device='cuda:0')\n",
            "tensor([[4.5675e-09, 1.0000e+00]], device='cuda:0')\n",
            "tensor([[1.0000e+00, 1.2899e-08]], device='cuda:0')\n",
            "tensor([[0.9984, 0.0016]], device='cuda:0')\n",
            "tensor([[1.0000e+00, 7.3815e-11]], device='cuda:0')\n",
            "tensor([[9.9975e-01, 2.5177e-04]], device='cuda:0')\n",
            "tensor([[2.1833e-05, 9.9998e-01]], device='cuda:0')\n",
            "tensor([[0.0813, 0.9187]], device='cuda:0')\n",
            "tensor([[9.9964e-01, 3.6202e-04]], device='cuda:0')\n",
            "tensor([[1.0000e+00, 8.9750e-12]], device='cuda:0')\n",
            "tensor([[0.0017, 0.9983]], device='cuda:0')\n",
            "tensor([[0.0340, 0.9660]], device='cuda:0')\n",
            "tensor([[0.0105, 0.9895]], device='cuda:0')\n",
            "tensor([[0.0895, 0.9105]], device='cuda:0')\n",
            "tensor([[0.8728, 0.1272]], device='cuda:0')\n",
            "tensor([[1.0000e+00, 2.1036e-08]], device='cuda:0')\n",
            "tensor([[1.0000e+00, 4.8645e-08]], device='cuda:0')\n",
            "tensor([[2.6741e-07, 1.0000e+00]], device='cuda:0')\n",
            "tensor([[4.1940e-08, 1.0000e+00]], device='cuda:0')\n",
            "tensor([[1.0000e+00, 2.2685e-13]], device='cuda:0')\n",
            "tensor([[1.0000e+00, 2.0396e-15]], device='cuda:0')\n",
            "tensor([[9.9971e-01, 2.8928e-04]], device='cuda:0')\n",
            "tensor([[1.0000e+00, 4.5405e-12]], device='cuda:0')\n",
            "tensor([[1.0000e+00, 2.1842e-08]], device='cuda:0')\n",
            "tensor([[0.0323, 0.9677]], device='cuda:0')\n",
            "tensor([[6.2016e-06, 9.9999e-01]], device='cuda:0')\n",
            "tensor([[0.0294, 0.9706]], device='cuda:0')\n",
            "tensor([[1.0000e+00, 1.9484e-08]], device='cuda:0')\n",
            "tensor([[1.0000e+00, 9.1611e-10]], device='cuda:0')\n",
            "tensor([[1.0000e+00, 1.2870e-10]], device='cuda:0')\n",
            "tensor([[2.7075e-04, 9.9973e-01]], device='cuda:0')\n",
            "tensor([[1.7396e-06, 1.0000e+00]], device='cuda:0')\n",
            "tensor([[1.0000e+00, 1.3257e-07]], device='cuda:0')\n",
            "tensor([[5.9882e-04, 9.9940e-01]], device='cuda:0')\n",
            "tensor([[3.1284e-04, 9.9969e-01]], device='cuda:0')\n",
            "tensor([[0.9966, 0.0034]], device='cuda:0')\n",
            "tensor([[1.0000e+00, 2.4905e-08]], device='cuda:0')\n",
            "tensor([[1.0000e+00, 6.2073e-09]], device='cuda:0')\n",
            "tensor([[0.9967, 0.0033]], device='cuda:0')\n",
            "tensor([[1.1176e-04, 9.9989e-01]], device='cuda:0')\n",
            "tensor([[1.0000e+00, 5.2458e-07]], device='cuda:0')\n",
            "tensor([[2.6757e-05, 9.9997e-01]], device='cuda:0')\n",
            "tensor([[1.0000e+00, 6.1400e-08]], device='cuda:0')\n",
            "tensor([[3.6404e-06, 1.0000e+00]], device='cuda:0')\n",
            "tensor([[0.8175, 0.1825]], device='cuda:0')\n",
            "tensor([[1.9319e-04, 9.9981e-01]], device='cuda:0')\n",
            "tensor([[0.2200, 0.7800]], device='cuda:0')\n",
            "tensor([[0.0145, 0.9855]], device='cuda:0')\n",
            "tensor([[1.2840e-05, 9.9999e-01]], device='cuda:0')\n",
            "tensor([[1.0000e+00, 1.9488e-10]], device='cuda:0')\n",
            "tensor([[5.3384e-05, 9.9995e-01]], device='cuda:0')\n",
            "tensor([[1.0000e+00, 2.9037e-06]], device='cuda:0')\n",
            "tensor([[2.3596e-06, 1.0000e+00]], device='cuda:0')\n",
            "tensor([[1.0000e+00, 1.4174e-13]], device='cuda:0')\n",
            "tensor([[2.5738e-08, 1.0000e+00]], device='cuda:0')\n",
            "tensor([[1.1725e-05, 9.9999e-01]], device='cuda:0')\n",
            "tensor([[1.0000e+00, 4.3477e-10]], device='cuda:0')\n",
            "tensor([[1.0000e+00, 6.4132e-15]], device='cuda:0')\n",
            "tensor([[1.1217e-05, 9.9999e-01]], device='cuda:0')\n",
            "tensor([[1.0000e+00, 2.8021e-12]], device='cuda:0')\n",
            "Success!\n",
            "Results saved at results.csv\n"
          ]
        }
      ]
    },
    {
      "cell_type": "markdown",
      "source": [
        "**Data augmenting and File handling**\n",
        "\n",
        "---\n",
        "\n"
      ],
      "metadata": {
        "id": "miFQq5C9F32z"
      }
    },
    {
      "cell_type": "code",
      "source": [
        "import os, glob, csv, random\n",
        "import shutil\n",
        "fire = []\n",
        "nofire = []\n",
        "with open('results.csv', newline='') as csvfile:\n",
        "    spamreader = csv.reader(csvfile, delimiter=' ', quotechar='|')\n",
        "    for row in spamreader:\n",
        "        img, label = row[0].split(\",\")\n",
        "        if int(label) == 1:\n",
        "          fire.append(img)\n",
        "        else:\n",
        "          nofire.append(img)\n",
        "\n",
        "print(len(fire) + len(nofire))\n",
        "# dst1 = \"1\"\n",
        "# dst0 = \"0\"\n",
        "# for file in os.listdir('train_imgs'):\n",
        "#     if file in fire:\n",
        "#         shutil.move(os.path.join('train_imgs',file),os.path.join('1',file))\n",
        "#     else:\n",
        "#         shutil.move(os.path.join('train_imgs',file),os.path.join('0',file))\n",
        "\n",
        "# source = 'train/1'\n",
        "# dest = 'val/1'\n",
        "# files = os.listdir(source)\n",
        "# no_of_files = len(files) // 5\n",
        "\n",
        "# for file_name in random.sample(files, no_of_files):\n",
        "#     shutil.move(os.path.join(source, file_name), dest)\n",
        "# to_move = ['1640.jpg', '2111.jpg', '2931.jpg', '3098.jpg', '3493.jpg', '6710.jpg','7639.jpg', '8472.jpg', '9331.jpg']\n",
        "# for file in os.listdir('/content/drive/MyDrive/GeorgeDataSet/test_imgs'):\n",
        "#   if file in fire:\n",
        "#     shutil.copy(os.path.join('/content/drive/MyDrive/GeorgeDataSet/test_imgs', file), os.path.join('/content/drive/MyDrive/GeorgeDataSet/pred4/fire', file))\n",
        "#   else:\n",
        "#     shutil.copy(os.path.join('/content/drive/MyDrive/GeorgeDataSet/test_imgs', file), os.path.join('/content/drive/MyDrive/GeorgeDataSet/pred4/nofire', file))"
      ],
      "metadata": {
        "id": "UZNdz6EsK4Tg",
        "outputId": "f3c9749b-e663-46e3-fe35-370785f5c960",
        "colab": {
          "base_uri": "https://localhost:8080/"
        }
      },
      "execution_count": 193,
      "outputs": [
        {
          "output_type": "stream",
          "name": "stdout",
          "text": [
            "400\n"
          ]
        }
      ]
    },
    {
      "cell_type": "code",
      "source": [
        "from google.colab.patches import cv2_imshow\n",
        "for file in os.listdir('/content/drive/MyDrive/GeorgeDataSet/alltrain/nofire'):\n",
        "  shutil.copy(os.path.join('/content/drive/MyDrive/GeorgeDataSet/alltrain/nofire', file), os.path.join('/content/drive/MyDrive/GeorgeDataSet/alltrain_aug/nofire', file))\n",
        "  img = cv2.imread(os.path.join('/content/drive/MyDrive/GeorgeDataSet/alltrain/nofire',file))\n",
        "  img = cv2.flip(img,1)\n",
        "  newfile = file.split(\".\")[0]+\"aug.jpg\"\n",
        "  cv2.imwrite(os.path.join('/content/drive/MyDrive/GeorgeDataSet/alltrain_aug/nofire',newfile),img)\n",
        "\n"
      ],
      "metadata": {
        "id": "4C3HHIKHnfMV"
      },
      "execution_count": null,
      "outputs": []
    },
    {
      "cell_type": "code",
      "source": [
        "def rotation(img, angle):\n",
        "    angle = int(random.uniform(-angle, angle))\n",
        "    h, w = img.shape[:2]\n",
        "    M = cv2.getRotationMatrix2D((int(w/2), int(h/2)), angle, 1)\n",
        "    img = cv2.warpAffine(img, M, (w, h))\n",
        "    return img\n",
        "def channel_shift(img, value):\n",
        "    value = int(random.uniform(-value, value))\n",
        "    img = img + value\n",
        "    img[:,:,:][img[:,:,:]>255]  = 255\n",
        "    img[:,:,:][img[:,:,:]<0]  = 0\n",
        "    img = img.astype(np.uint8)\n",
        "    return img"
      ],
      "metadata": {
        "id": "OgFP287M8Mhd"
      },
      "execution_count": 121,
      "outputs": []
    },
    {
      "cell_type": "code",
      "source": [
        "from google.colab.patches import cv2_imshow\n",
        "for file in os.listdir('/content/drive/MyDrive/GeorgeDataSet/alltrain/nofire'):\n",
        "  img = cv2.imread(os.path.join('/content/drive/MyDrive/GeorgeDataSet/alltrain/nofire',file))\n",
        "  #img = cv2.flip(img,1)\n",
        "  # img = rotation(img, 30) \n",
        "  img = channel_shift(img, 60)\n",
        "  newfile = file.split(\".\")[0]+\"chsh.jpg\"\n",
        "  cv2.imwrite(os.path.join('/content/drive/MyDrive/GeorgeDataSet/alltrain_aug/nofire',newfile),img)\n",
        "\n"
      ],
      "metadata": {
        "id": "pKJH-FW90zwE"
      },
      "execution_count": 122,
      "outputs": []
    },
    {
      "cell_type": "code",
      "source": [
        "len(os.listdir('/content/drive/MyDrive/GeorgeDataSet/alltrain_aug/nofire'))"
      ],
      "metadata": {
        "colab": {
          "base_uri": "https://localhost:8080/"
        },
        "id": "G-Kz5HFfn8td",
        "outputId": "3bc531fd-b085-46b4-d099-e119adcad609"
      },
      "execution_count": 123,
      "outputs": [
        {
          "output_type": "execute_result",
          "data": {
            "text/plain": [
              "4266"
            ]
          },
          "metadata": {},
          "execution_count": 123
        }
      ]
    },
    {
      "cell_type": "code",
      "source": [
        "len(os.listdir('/content/drive/MyDrive/GeorgeDataSet/alltrain_aug/fire'))"
      ],
      "metadata": {
        "colab": {
          "base_uri": "https://localhost:8080/"
        },
        "id": "r8GBPN42oA78",
        "outputId": "6c30c1ee-209c-4dac-dd07-ddaf937114a3"
      },
      "execution_count": 120,
      "outputs": [
        {
          "output_type": "execute_result",
          "data": {
            "text/plain": [
              "4656"
            ]
          },
          "metadata": {},
          "execution_count": 120
        }
      ]
    }
  ]
}